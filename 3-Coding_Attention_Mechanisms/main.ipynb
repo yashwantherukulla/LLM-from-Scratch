{
 "cells": [
  {
   "cell_type": "markdown",
   "metadata": {},
   "source": [
    "## 3.3"
   ]
  },
  {
   "cell_type": "markdown",
   "metadata": {},
   "source": [
    "### 3.3.1"
   ]
  },
  {
   "cell_type": "code",
   "execution_count": 3,
   "metadata": {},
   "outputs": [],
   "source": [
    "import torch\n",
    "from torch import nn"
   ]
  },
  {
   "cell_type": "code",
   "execution_count": 4,
   "metadata": {},
   "outputs": [],
   "source": [
    "inputs = torch.tensor(\n",
    "    [[0.43, 0.15, 0.89], # Your (x^1)\n",
    "    [0.55, 0.87, 0.66], # journey (x^2)\n",
    "    [0.57, 0.85, 0.64], # starts (x^3)\n",
    "    [0.22, 0.58, 0.33], # with (x^4)\n",
    "    [0.77, 0.25, 0.10], # one (x^5)\n",
    "    [0.05, 0.80, 0.55]] # step (x^6)\n",
    ")"
   ]
  },
  {
   "cell_type": "code",
   "execution_count": 5,
   "metadata": {},
   "outputs": [
    {
     "name": "stdout",
     "output_type": "stream",
     "text": [
      "tensor([0.9544, 1.4950, 1.4754, 0.8434, 0.7070, 1.0865])\n",
      "tensor([0.1455, 0.2278, 0.2249, 0.1285, 0.1077, 0.1656]) \n",
      "1.0000001192092896\n"
     ]
    }
   ],
   "source": [
    "# calculating attention scores $omega$\n",
    "\n",
    "query = inputs[1]\n",
    "attn_scores2 = torch.empty(inputs.shape[0])\n",
    "for i, x_i in enumerate(inputs):\n",
    "    attn_scores2[i] = torch.dot(x_i, query)\n",
    "print(attn_scores2)\n",
    "\n",
    "#normalizing attentions scores\n",
    "# In practice, it’s more common and advisable to use the softmax function for normalization.\n",
    "attn_weights2_tmp = attn_scores2 / attn_scores2.sum()\n",
    "print(attn_weights2_tmp, f\"\\n{attn_weights2_tmp.sum()}\")"
   ]
  },
  {
   "cell_type": "code",
   "execution_count": 6,
   "metadata": {},
   "outputs": [
    {
     "name": "stdout",
     "output_type": "stream",
     "text": [
      "tensor([0.1385, 0.2379, 0.2333, 0.1240, 0.1082, 0.1581]) \n",
      "1.0\n",
      "tensor([0.1385, 0.2379, 0.2333, 0.1240, 0.1082, 0.1581]) \n",
      "1.0\n"
     ]
    }
   ],
   "source": [
    "def softmax_naive(x: torch.Tensor):\n",
    "    return torch.exp(x)/torch.exp(x).sum(dim=0)\n",
    "\n",
    "attn_weights2_naive = softmax_naive(attn_scores2)\n",
    "print(attn_weights2_naive, f\"\\n{attn_weights2_naive.sum()}\")\n",
    "\n",
    "# since torch's implementation is more stable and is optimized for performance\n",
    "attn_weights2 = torch.softmax(attn_scores2, dim=0)\n",
    "print(attn_weights2, f\"\\n{attn_weights2.sum()}\")"
   ]
  },
  {
   "cell_type": "code",
   "execution_count": 7,
   "metadata": {},
   "outputs": [
    {
     "name": "stdout",
     "output_type": "stream",
     "text": [
      "tensor([0.4419, 0.6515, 0.5683])\n"
     ]
    }
   ],
   "source": [
    "# calculating context vector z^(2)\n",
    "query = inputs[1]\n",
    "context_vect2 = torch.zeros(query.shape[0])\n",
    "for i, x_i in enumerate(inputs):\n",
    "    context_vect2 += attn_weights2[i] * x_i\n",
    "print(context_vect2)"
   ]
  },
  {
   "cell_type": "markdown",
   "metadata": {},
   "source": [
    "### 3.3.2"
   ]
  },
  {
   "cell_type": "code",
   "execution_count": 8,
   "metadata": {},
   "outputs": [
    {
     "name": "stdout",
     "output_type": "stream",
     "text": [
      "tensor([[0.9995, 0.9544, 0.9422, 0.4753, 0.4576, 0.6310],\n",
      "        [0.9544, 1.4950, 1.4754, 0.8434, 0.7070, 1.0865],\n",
      "        [0.9422, 1.4754, 1.4570, 0.8296, 0.7154, 1.0605],\n",
      "        [0.4753, 0.8434, 0.8296, 0.4937, 0.3474, 0.6565],\n",
      "        [0.4576, 0.7070, 0.7154, 0.3474, 0.6654, 0.2935],\n",
      "        [0.1385, 0.2184, 0.2128, 0.1420, 0.0988, 0.1896]])\n",
      "tensor([[1.9802, 2.6760, 2.6721],\n",
      "        [2.8579, 4.2330, 3.7270],\n",
      "        [2.8335, 4.1718, 3.6734],\n",
      "        [1.5501, 2.4086, 2.0693],\n",
      "        [1.5969, 1.8945, 1.6743],\n",
      "        [0.4177, 0.6503, 0.5645]])\n"
     ]
    }
   ],
   "source": [
    "attn_weights = torch.empty(inputs.shape[0], inputs.shape[0])\n",
    "context_vects = torch.zeros(inputs.shape[0], inputs.shape[1])\n",
    "\n",
    "for i, q_i in enumerate(inputs):\n",
    "    for j, x_i in enumerate(inputs):\n",
    "        attn_weights[i][j] = torch.dot(q_i, x_i)\n",
    "attn_weights[i] = torch.softmax(attn_weights[i], dim=-1)\n",
    "# By setting dim=-1, we are instructing the softmax function to apply the normalization along the last dimension of the attn_scores tensor\n",
    "\n",
    "context_vects = attn_weights @ inputs # torch.matmul()\n",
    "print(attn_weights)\n",
    "print(context_vects)"
   ]
  },
  {
   "cell_type": "markdown",
   "metadata": {},
   "source": [
    "## 3.4"
   ]
  },
  {
   "cell_type": "markdown",
   "metadata": {},
   "source": [
    "### 3.4.1"
   ]
  },
  {
   "cell_type": "code",
   "execution_count": 9,
   "metadata": {},
   "outputs": [
    {
     "name": "stdout",
     "output_type": "stream",
     "text": [
      "tensor([0.4306, 1.4551])\n"
     ]
    }
   ],
   "source": [
    "x_2 = inputs[1]\n",
    "d_in = inputs.shape[1]\n",
    "d_out = 2\n",
    "\n",
    "torch.manual_seed(123)\n",
    "W_q = nn.Parameter(torch.rand(d_in, d_out), requires_grad=False) # req grad is false for illustration, in actual implementation, this must be true\n",
    "W_k = nn.Parameter(torch.rand(d_in, d_out), requires_grad=False)\n",
    "W_v = nn.Parameter(torch.rand(d_in, d_out), requires_grad=False)\n",
    "\n",
    "q_2 = x_2 @ W_q \n",
    "k_2 = x_2 @ W_k\n",
    "v_2 = x_2 @ W_v\n",
    "\n",
    "print(q_2)"
   ]
  },
  {
   "cell_type": "code",
   "execution_count": null,
   "metadata": {},
   "outputs": [
    {
     "name": "stdout",
     "output_type": "stream",
     "text": [
      "torch.Size([6, 3]) torch.Size([3, 2])\n",
      "tensor([[0.2309, 1.0966],\n",
      "        [0.4306, 1.4551],\n",
      "        [0.4300, 1.4343],\n",
      "        [0.2355, 0.7990],\n",
      "        [0.2983, 0.6565],\n",
      "        [0.2568, 1.0533]])\n"
     ]
    }
   ],
   "source": [
    "queries = inputs @ W_q # the matrix mul is done on the last dim, the 6 elements here will be broadcast. since for an ele, size is 1x3  and the W_q size is 3x2\n",
    "keys = inputs @ W_k\n",
    "values = inputs @ W_q\n",
    "\n",
    "print(inputs.shape, W_q.shape)\n",
    "print(queries)"
   ]
  },
  {
   "cell_type": "code",
   "execution_count": 12,
   "metadata": {},
   "outputs": [
    {
     "name": "stdout",
     "output_type": "stream",
     "text": [
      "tensor(1.8524)\n"
     ]
    }
   ],
   "source": [
    "# computing omega_22\n",
    "k_2 = keys[1]\n",
    "attn_score_22 = q_2.dot(k_2)\n",
    "print(attn_score_22)"
   ]
  },
  {
   "cell_type": "code",
   "execution_count": 16,
   "metadata": {},
   "outputs": [
    {
     "name": "stdout",
     "output_type": "stream",
     "text": [
      "tensor([0.4306, 1.4551])\n",
      "tensor([[0.3669, 0.4433, 0.4361, 0.2408, 0.1827, 0.3275],\n",
      "        [0.7646, 1.1419, 1.1156, 0.6706, 0.3292, 0.9642]])\n",
      "tensor([1.2705, 1.8524, 1.8111, 1.0795, 0.5577, 1.5440])\n"
     ]
    }
   ],
   "source": [
    "# computing omega_2i ie[0, T]\n",
    "attn_scores_2 = q_2 @ keys.T\n",
    "print(q_2)\n",
    "print(keys.T)\n",
    "print(attn_scores_2)"
   ]
  },
  {
   "cell_type": "code",
   "execution_count": 18,
   "metadata": {},
   "outputs": [
    {
     "name": "stdout",
     "output_type": "stream",
     "text": [
      "tensor([0.1500, 0.2264, 0.2199, 0.1311, 0.0906, 0.1820])\n"
     ]
    }
   ],
   "source": [
    "d_k = keys.shape[-1]\n",
    "attn_weights_2 = torch.softmax(attn_scores_2/d_k**0.5, dim=-1)\n",
    "print(attn_weights_2)"
   ]
  },
  {
   "cell_type": "code",
   "execution_count": 20,
   "metadata": {},
   "outputs": [
    {
     "name": "stdout",
     "output_type": "stream",
     "text": [
      "tensor([0.3313, 1.1652])\n"
     ]
    }
   ],
   "source": [
    "# calculating the context vector z_2\n",
    "context_vect_2 = attn_weights_2 @ values\n",
    "print(context_vect_2)"
   ]
  },
  {
   "cell_type": "code",
   "execution_count": null,
   "metadata": {},
   "outputs": [],
   "source": []
  }
 ],
 "metadata": {
  "kernelspec": {
   "display_name": "Python 3 (ipykernel)",
   "language": "python",
   "name": "python3"
  },
  "language_info": {
   "codemirror_mode": {
    "name": "ipython",
    "version": 3
   },
   "file_extension": ".py",
   "mimetype": "text/x-python",
   "name": "python",
   "nbconvert_exporter": "python",
   "pygments_lexer": "ipython3",
   "version": "3.11.4"
  }
 },
 "nbformat": 4,
 "nbformat_minor": 4
}
