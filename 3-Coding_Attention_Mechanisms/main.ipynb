{
 "cells": [
  {
   "cell_type": "markdown",
   "metadata": {},
   "source": [
    "## 3.3"
   ]
  },
  {
   "cell_type": "markdown",
   "metadata": {},
   "source": [
    "### 3.3.1"
   ]
  },
  {
   "cell_type": "code",
   "execution_count": 3,
   "metadata": {},
   "outputs": [],
   "source": [
    "import torch"
   ]
  },
  {
   "cell_type": "code",
   "execution_count": 4,
   "metadata": {},
   "outputs": [],
   "source": [
    "inputs = torch.tensor(\n",
    "    [[0.43, 0.15, 0.89], # Your (x^1)\n",
    "    [0.55, 0.87, 0.66], # journey (x^2)\n",
    "    [0.57, 0.85, 0.64], # starts (x^3)\n",
    "    [0.22, 0.58, 0.33], # with (x^4)\n",
    "    [0.77, 0.25, 0.10], # one (x^5)\n",
    "    [0.05, 0.80, 0.55]] # step (x^6)\n",
    ")"
   ]
  },
  {
   "cell_type": "code",
   "execution_count": null,
   "metadata": {},
   "outputs": [
    {
     "name": "stdout",
     "output_type": "stream",
     "text": [
      "tensor([0.9544, 1.4950, 1.4754, 0.8434, 0.7070, 1.0865])\n",
      "tensor([0.1455, 0.2278, 0.2249, 0.1285, 0.1077, 0.1656]) \n",
      "1.0000001192092896\n"
     ]
    }
   ],
   "source": [
    "# calculating attention scores $omega$\n",
    "\n",
    "query = inputs[1]\n",
    "attn_scores2 = torch.empty(inputs.shape[0])\n",
    "for i, x_i in enumerate(inputs):\n",
    "    attn_scores2[i] = torch.dot(x_i, query)\n",
    "print(attn_scores2)\n",
    "\n",
    "#normalizing attentions scores\n",
    "# In practice, it’s more common and advisable to use the softmax function for normalization.\n",
    "attn_weights2_tmp = attn_scores2 / attn_scores2.sum()\n",
    "print(attn_weights2_tmp, f\"\\n{attn_weights2_tmp.sum()}\")"
   ]
  },
  {
   "cell_type": "code",
   "execution_count": null,
   "metadata": {},
   "outputs": [
    {
     "name": "stdout",
     "output_type": "stream",
     "text": [
      "tensor([0.1385, 0.2379, 0.2333, 0.1240, 0.1082, 0.1581]) \n",
      "1.0\n",
      "tensor([0.1385, 0.2379, 0.2333, 0.1240, 0.1082, 0.1581]) \n",
      "1.0\n"
     ]
    }
   ],
   "source": [
    "def softmax_naive(x: torch.Tensor):\n",
    "    return torch.exp(x)/torch.exp(x).sum(dim=0)\n",
    "\n",
    "attn_weights2_naive = softmax_naive(attn_scores2)\n",
    "print(attn_weights2_naive, f\"\\n{attn_weights2_naive.sum()}\")\n",
    "\n",
    "# since torch's implementation is more stable and is optimized for performance\n",
    "attn_weights2 = torch.softmax(attn_scores2, dim=0)\n",
    "print(attn_weights2, f\"\\n{attn_weights2.sum()}\")"
   ]
  },
  {
   "cell_type": "code",
   "execution_count": 13,
   "metadata": {},
   "outputs": [
    {
     "name": "stdout",
     "output_type": "stream",
     "text": [
      "tensor([0.4419, 0.6515, 0.5683])\n"
     ]
    }
   ],
   "source": [
    "# calculating context vector z^(2)\n",
    "query = inputs[1]\n",
    "context_vect2 = torch.zeros(query.shape[0])\n",
    "for i, x_i in enumerate(inputs):\n",
    "    context_vect2 += attn_weights2[i] * x_i\n",
    "print(context_vect2)"
   ]
  },
  {
   "cell_type": "code",
   "execution_count": null,
   "metadata": {},
   "outputs": [],
   "source": []
  }
 ],
 "metadata": {
  "kernelspec": {
   "display_name": "venv",
   "language": "python",
   "name": "python3"
  },
  "language_info": {
   "codemirror_mode": {
    "name": "ipython",
    "version": 3
   },
   "file_extension": ".py",
   "mimetype": "text/x-python",
   "name": "python",
   "nbconvert_exporter": "python",
   "pygments_lexer": "ipython3",
   "version": "3.11.4"
  }
 },
 "nbformat": 4,
 "nbformat_minor": 2
}
